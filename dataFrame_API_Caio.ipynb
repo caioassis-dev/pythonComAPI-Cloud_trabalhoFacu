{
 "cells": [
  {
   "attachments": {},
   "cell_type": "markdown",
   "metadata": {},
   "source": [
    "INSTALAÇÃO DE BIBLIOTECAS NECESSÁRIAS\n"
   ]
  },
  {
   "cell_type": "code",
   "execution_count": 16,
   "metadata": {
    "scrolled": false
   },
   "outputs": [
    {
     "name": "stdout",
     "output_type": "stream",
     "text": [
      "Requirement already satisfied: xlwt in c:\\users\\cs376562\\appdata\\local\\programs\\python\\python310\\lib\\site-packages (1.3.0)\n"
     ]
    },
    {
     "name": "stderr",
     "output_type": "stream",
     "text": [
      "\n",
      "[notice] A new release of pip available: 22.3.1 -> 23.1.2\n",
      "[notice] To update, run: python.exe -m pip install --upgrade pip\n"
     ]
    },
    {
     "name": "stdout",
     "output_type": "stream",
     "text": [
      "Requirement already satisfied: basedosdados in c:\\users\\cs376562\\appdata\\local\\programs\\python\\python310\\lib\\site-packages (1.6.11)\n",
      "Requirement already satisfied: tomlkit==0.7.0 in c:\\users\\cs376562\\appdata\\local\\programs\\python\\python310\\lib\\site-packages (from basedosdados) (0.7.0)\n",
      "Requirement already satisfied: pyaml==20.4.0 in c:\\users\\cs376562\\appdata\\local\\programs\\python\\python310\\lib\\site-packages (from basedosdados) (20.4.0)\n",
      "Requirement already satisfied: google-cloud-bigquery==2.30.1 in c:\\users\\cs376562\\appdata\\local\\programs\\python\\python310\\lib\\site-packages (from basedosdados) (2.30.1)\n",
      "Requirement already satisfied: shapely<2.0.0,>=1.6.0 in c:\\users\\cs376562\\appdata\\local\\programs\\python\\python310\\lib\\site-packages (from basedosdados) (1.8.4)\n",
      "Requirement already satisfied: google-cloud-bigquery-storage==1.1.0 in c:\\users\\cs376562\\appdata\\local\\programs\\python\\python310\\lib\\site-packages (from basedosdados) (1.1.0)\n",
      "Requirement already satisfied: pandavro<2.0.0,>=1.6.0 in c:\\users\\cs376562\\appdata\\local\\programs\\python\\python310\\lib\\site-packages (from basedosdados) (1.7.2)\n",
      "Requirement already satisfied: click==8.0.3 in c:\\users\\cs376562\\appdata\\local\\programs\\python\\python310\\lib\\site-packages (from basedosdados) (8.0.3)\n",
      "Requirement already satisfied: pyarrow==6.0.0 in c:\\users\\cs376562\\appdata\\local\\programs\\python\\python310\\lib\\site-packages (from basedosdados) (6.0.0)\n",
      "Requirement already satisfied: toml<0.11.0,>=0.10.2 in c:\\users\\cs376562\\appdata\\local\\programs\\python\\python310\\lib\\site-packages (from basedosdados) (0.10.2)\n",
      "Requirement already satisfied: pandas<2.0.0,>=1.3.5 in c:\\users\\cs376562\\appdata\\local\\programs\\python\\python310\\lib\\site-packages (from basedosdados) (1.4.3)\n",
      "Requirement already satisfied: google-cloud-storage==1.42.3 in c:\\users\\cs376562\\appdata\\local\\programs\\python\\python310\\lib\\site-packages (from basedosdados) (1.42.3)\n",
      "Requirement already satisfied: loguru<0.7.0,>=0.6.0 in c:\\users\\cs376562\\appdata\\local\\programs\\python\\python310\\lib\\site-packages (from basedosdados) (0.6.0)\n",
      "Requirement already satisfied: ruamel.yaml==0.17.10 in c:\\users\\cs376562\\appdata\\local\\programs\\python\\python310\\lib\\site-packages (from basedosdados) (0.17.10)\n",
      "Requirement already satisfied: tqdm==4.50.2 in c:\\users\\cs376562\\appdata\\local\\programs\\python\\python310\\lib\\site-packages (from basedosdados) (4.50.2)\n",
      "Requirement already satisfied: importlib-metadata<5.0.0,>=4.11.3 in c:\\users\\cs376562\\appdata\\local\\programs\\python\\python310\\lib\\site-packages (from basedosdados) (4.13.0)\n",
      "Requirement already satisfied: Jinja2==3.0.3 in c:\\users\\cs376562\\appdata\\local\\programs\\python\\python310\\lib\\site-packages (from basedosdados) (3.0.3)\n",
      "Requirement already satisfied: ckanapi==4.6 in c:\\users\\cs376562\\appdata\\local\\programs\\python\\python310\\lib\\site-packages (from basedosdados) (4.6)\n",
      "Requirement already satisfied: pandas-gbq<0.18.0,>=0.17.4 in c:\\users\\cs376562\\appdata\\local\\programs\\python\\python310\\lib\\site-packages (from basedosdados) (0.17.9)\n",
      "Requirement already satisfied: setuptools in c:\\users\\cs376562\\appdata\\local\\programs\\python\\python310\\lib\\site-packages (from ckanapi==4.6->basedosdados) (63.2.0)\n",
      "Requirement already satisfied: docopt in c:\\users\\cs376562\\appdata\\local\\programs\\python\\python310\\lib\\site-packages (from ckanapi==4.6->basedosdados) (0.6.2)\n",
      "Requirement already satisfied: requests in c:\\users\\cs376562\\appdata\\local\\programs\\python\\python310\\lib\\site-packages (from ckanapi==4.6->basedosdados) (2.28.1)\n",
      "Requirement already satisfied: python-slugify>=1.0 in c:\\users\\cs376562\\appdata\\local\\programs\\python\\python310\\lib\\site-packages (from ckanapi==4.6->basedosdados) (8.0.1)\n",
      "Requirement already satisfied: six<2.0,>=1.9 in c:\\users\\cs376562\\appdata\\local\\programs\\python\\python310\\lib\\site-packages (from ckanapi==4.6->basedosdados) (1.16.0)\n",
      "Requirement already satisfied: colorama in c:\\users\\cs376562\\appdata\\local\\programs\\python\\python310\\lib\\site-packages (from click==8.0.3->basedosdados) (0.4.5)\n",
      "Requirement already satisfied: packaging>=14.3 in c:\\users\\cs376562\\appdata\\local\\programs\\python\\python310\\lib\\site-packages (from google-cloud-bigquery==2.30.1->basedosdados) (21.3)\n",
      "Requirement already satisfied: google-api-core[grpc]<3.0.0dev,>=1.29.0 in c:\\users\\cs376562\\appdata\\local\\programs\\python\\python310\\lib\\site-packages (from google-cloud-bigquery==2.30.1->basedosdados) (1.34.0)\n",
      "Requirement already satisfied: python-dateutil<3.0dev,>=2.7.2 in c:\\users\\cs376562\\appdata\\local\\programs\\python\\python310\\lib\\site-packages (from google-cloud-bigquery==2.30.1->basedosdados) (2.8.2)\n",
      "Requirement already satisfied: proto-plus>=1.10.0 in c:\\users\\cs376562\\appdata\\local\\programs\\python\\python310\\lib\\site-packages (from google-cloud-bigquery==2.30.1->basedosdados) (1.22.2)\n",
      "Requirement already satisfied: google-cloud-core<3.0.0dev,>=1.4.1 in c:\\users\\cs376562\\appdata\\local\\programs\\python\\python310\\lib\\site-packages (from google-cloud-bigquery==2.30.1->basedosdados) (2.3.2)\n",
      "Requirement already satisfied: protobuf>=3.12.0 in c:\\users\\cs376562\\appdata\\local\\programs\\python\\python310\\lib\\site-packages (from google-cloud-bigquery==2.30.1->basedosdados) (3.20.3)\n",
      "Requirement already satisfied: grpcio<2.0dev,>=1.38.1 in c:\\users\\cs376562\\appdata\\local\\programs\\python\\python310\\lib\\site-packages (from google-cloud-bigquery==2.30.1->basedosdados) (1.53.0)\n",
      "Requirement already satisfied: google-resumable-media<3.0dev,>=0.6.0 in c:\\users\\cs376562\\appdata\\local\\programs\\python\\python310\\lib\\site-packages (from google-cloud-bigquery==2.30.1->basedosdados) (2.4.1)\n",
      "Requirement already satisfied: google-auth<3.0dev,>=1.25.0 in c:\\users\\cs376562\\appdata\\local\\programs\\python\\python310\\lib\\site-packages (from google-cloud-storage==1.42.3->basedosdados) (2.17.1)\n",
      "Requirement already satisfied: MarkupSafe>=2.0 in c:\\users\\cs376562\\appdata\\local\\programs\\python\\python310\\lib\\site-packages (from Jinja2==3.0.3->basedosdados) (2.1.1)\n",
      "Requirement already satisfied: PyYAML in c:\\users\\cs376562\\appdata\\local\\programs\\python\\python310\\lib\\site-packages (from pyaml==20.4.0->basedosdados) (6.0)\n",
      "Requirement already satisfied: numpy>=1.16.6 in c:\\users\\cs376562\\appdata\\local\\programs\\python\\python310\\lib\\site-packages (from pyarrow==6.0.0->basedosdados) (1.23.2)\n",
      "Requirement already satisfied: zipp>=0.5 in c:\\users\\cs376562\\appdata\\local\\programs\\python\\python310\\lib\\site-packages (from importlib-metadata<5.0.0,>=4.11.3->basedosdados) (3.8.1)\n",
      "Requirement already satisfied: win32-setctime>=1.0.0 in c:\\users\\cs376562\\appdata\\local\\programs\\python\\python310\\lib\\site-packages (from loguru<0.7.0,>=0.6.0->basedosdados) (1.1.0)\n",
      "Requirement already satisfied: pytz>=2020.1 in c:\\users\\cs376562\\appdata\\local\\programs\\python\\python310\\lib\\site-packages (from pandas<2.0.0,>=1.3.5->basedosdados) (2022.2.1)\n",
      "Requirement already satisfied: db-dtypes<2.0.0,>=0.3.1 in c:\\users\\cs376562\\appdata\\local\\programs\\python\\python310\\lib\\site-packages (from pandas-gbq<0.18.0,>=0.17.4->basedosdados) (1.1.1)\n",
      "Requirement already satisfied: pydata-google-auth in c:\\users\\cs376562\\appdata\\local\\programs\\python\\python310\\lib\\site-packages (from pandas-gbq<0.18.0,>=0.17.4->basedosdados) (1.7.0)\n",
      "Requirement already satisfied: google-auth-oauthlib>=0.0.1 in c:\\users\\cs376562\\appdata\\local\\programs\\python\\python310\\lib\\site-packages (from pandas-gbq<0.18.0,>=0.17.4->basedosdados) (1.0.0)\n",
      "Requirement already satisfied: fastavro~=1.5.1 in c:\\users\\cs376562\\appdata\\local\\programs\\python\\python310\\lib\\site-packages (from pandavro<2.0.0,>=1.6.0->basedosdados) (1.5.4)\n",
      "Requirement already satisfied: googleapis-common-protos<2.0dev,>=1.56.2 in c:\\users\\cs376562\\appdata\\local\\programs\\python\\python310\\lib\\site-packages (from google-api-core[grpc]<3.0.0dev,>=1.29.0->google-cloud-bigquery==2.30.1->basedosdados) (1.59.0)\n",
      "Requirement already satisfied: grpcio-status<2.0dev,>=1.33.2 in c:\\users\\cs376562\\appdata\\local\\programs\\python\\python310\\lib\\site-packages (from google-api-core[grpc]<3.0.0dev,>=1.29.0->google-cloud-bigquery==2.30.1->basedosdados) (1.48.2)\n",
      "Requirement already satisfied: pyasn1-modules>=0.2.1 in c:\\users\\cs376562\\appdata\\local\\programs\\python\\python310\\lib\\site-packages (from google-auth<3.0dev,>=1.25.0->google-cloud-storage==1.42.3->basedosdados) (0.2.8)\n",
      "Requirement already satisfied: rsa<5,>=3.1.4 in c:\\users\\cs376562\\appdata\\local\\programs\\python\\python310\\lib\\site-packages (from google-auth<3.0dev,>=1.25.0->google-cloud-storage==1.42.3->basedosdados) (4.9)\n",
      "Requirement already satisfied: cachetools<6.0,>=2.0.0 in c:\\users\\cs376562\\appdata\\local\\programs\\python\\python310\\lib\\site-packages (from google-auth<3.0dev,>=1.25.0->google-cloud-storage==1.42.3->basedosdados) (5.2.0)\n",
      "Requirement already satisfied: requests-oauthlib>=0.7.0 in c:\\users\\cs376562\\appdata\\local\\programs\\python\\python310\\lib\\site-packages (from google-auth-oauthlib>=0.0.1->pandas-gbq<0.18.0,>=0.17.4->basedosdados) (1.3.1)\n",
      "Requirement already satisfied: google-crc32c<2.0dev,>=1.0 in c:\\users\\cs376562\\appdata\\local\\programs\\python\\python310\\lib\\site-packages (from google-resumable-media<3.0dev,>=0.6.0->google-cloud-bigquery==2.30.1->basedosdados) (1.5.0)\n",
      "Requirement already satisfied: pyparsing!=3.0.5,>=2.0.2 in c:\\users\\cs376562\\appdata\\local\\programs\\python\\python310\\lib\\site-packages (from packaging>=14.3->google-cloud-bigquery==2.30.1->basedosdados) (3.0.9)\n",
      "Requirement already satisfied: text-unidecode>=1.3 in c:\\users\\cs376562\\appdata\\local\\programs\\python\\python310\\lib\\site-packages (from python-slugify>=1.0->ckanapi==4.6->basedosdados) (1.3)\n",
      "Requirement already satisfied: idna<4,>=2.5 in c:\\users\\cs376562\\appdata\\local\\programs\\python\\python310\\lib\\site-packages (from requests->ckanapi==4.6->basedosdados) (3.3)\n",
      "Requirement already satisfied: urllib3<1.27,>=1.21.1 in c:\\users\\cs376562\\appdata\\local\\programs\\python\\python310\\lib\\site-packages (from requests->ckanapi==4.6->basedosdados) (1.26.12)\n",
      "Requirement already satisfied: charset-normalizer<3,>=2 in c:\\users\\cs376562\\appdata\\local\\programs\\python\\python310\\lib\\site-packages (from requests->ckanapi==4.6->basedosdados) (2.1.1)\n",
      "Requirement already satisfied: certifi>=2017.4.17 in c:\\users\\cs376562\\appdata\\local\\programs\\python\\python310\\lib\\site-packages (from requests->ckanapi==4.6->basedosdados) (2022.6.15)\n",
      "Requirement already satisfied: pyasn1<0.5.0,>=0.4.6 in c:\\users\\cs376562\\appdata\\local\\programs\\python\\python310\\lib\\site-packages (from pyasn1-modules>=0.2.1->google-auth<3.0dev,>=1.25.0->google-cloud-storage==1.42.3->basedosdados) (0.4.8)\n",
      "Requirement already satisfied: oauthlib>=3.0.0 in c:\\users\\cs376562\\appdata\\local\\programs\\python\\python310\\lib\\site-packages (from requests-oauthlib>=0.7.0->google-auth-oauthlib>=0.0.1->pandas-gbq<0.18.0,>=0.17.4->basedosdados) (3.2.2)\n"
     ]
    },
    {
     "name": "stderr",
     "output_type": "stream",
     "text": [
      "\n",
      "[notice] A new release of pip available: 22.3.1 -> 23.1.2\n",
      "[notice] To update, run: python.exe -m pip install --upgrade pip\n"
     ]
    },
    {
     "name": "stdout",
     "output_type": "stream",
     "text": [
      "Requirement already satisfied: pandas in c:\\users\\cs376562\\appdata\\local\\programs\\python\\python310\\lib\\site-packages (1.4.3)\n",
      "Requirement already satisfied: pytz>=2020.1 in c:\\users\\cs376562\\appdata\\local\\programs\\python\\python310\\lib\\site-packages (from pandas) (2022.2.1)\n",
      "Requirement already satisfied: python-dateutil>=2.8.1 in c:\\users\\cs376562\\appdata\\local\\programs\\python\\python310\\lib\\site-packages (from pandas) (2.8.2)\n",
      "Requirement already satisfied: numpy>=1.21.0 in c:\\users\\cs376562\\appdata\\local\\programs\\python\\python310\\lib\\site-packages (from pandas) (1.23.2)\n",
      "Requirement already satisfied: six>=1.5 in c:\\users\\cs376562\\appdata\\local\\programs\\python\\python310\\lib\\site-packages (from python-dateutil>=2.8.1->pandas) (1.16.0)\n"
     ]
    },
    {
     "name": "stderr",
     "output_type": "stream",
     "text": [
      "\n",
      "[notice] A new release of pip available: 22.3.1 -> 23.1.2\n",
      "[notice] To update, run: python.exe -m pip install --upgrade pip\n"
     ]
    },
    {
     "name": "stdout",
     "output_type": "stream",
     "text": [
      "Requirement already satisfied: tabulate in c:\\users\\cs376562\\appdata\\local\\programs\\python\\python310\\lib\\site-packages (0.9.0)\n"
     ]
    },
    {
     "name": "stderr",
     "output_type": "stream",
     "text": [
      "\n",
      "[notice] A new release of pip available: 22.3.1 -> 23.1.2\n",
      "[notice] To update, run: python.exe -m pip install --upgrade pip\n",
      "ERROR: Could not find a version that satisfies the requirement os (from versions: none)\n",
      "ERROR: No matching distribution found for os\n",
      "\n",
      "[notice] A new release of pip available: 22.3.1 -> 23.1.2\n",
      "[notice] To update, run: python.exe -m pip install --upgrade pip\n"
     ]
    },
    {
     "name": "stdout",
     "output_type": "stream",
     "text": [
      "Requirement already satisfied: openpyxl in c:\\users\\cs376562\\appdata\\local\\programs\\python\\python310\\lib\\site-packages (3.0.10)\n",
      "Requirement already satisfied: et-xmlfile in c:\\users\\cs376562\\appdata\\local\\programs\\python\\python310\\lib\\site-packages (from openpyxl) (1.1.0)\n"
     ]
    },
    {
     "name": "stderr",
     "output_type": "stream",
     "text": [
      "\n",
      "[notice] A new release of pip available: 22.3.1 -> 23.1.2\n",
      "[notice] To update, run: python.exe -m pip install --upgrade pip\n"
     ]
    }
   ],
   "source": [
    "!pip install xlwt\n",
    "!pip install basedosdados\n",
    "!pip install pandas\n",
    "!pip install tabulate\n",
    "!pip install os\n",
    "!pip install openpyxl"
   ]
  },
  {
   "attachments": {},
   "cell_type": "markdown",
   "metadata": {},
   "source": [
    "## **Preços de Combustíveis - Dados históricos**\n",
    "#### **Organização**:    Agência Nacional do Petróleo, Gás Natural e Biocombustíveis (ANP)\n",
    "##### **Cobertura temporal** : 2020 - 2021 (Mês de janeiro)"
   ]
  },
  {
   "cell_type": "code",
   "execution_count": 1,
   "metadata": {},
   "outputs": [
    {
     "name": "stderr",
     "output_type": "stream",
     "text": [
      "Downloading: 100%|█████████████████████████████████████████████████████████| 325433/325433 [01:11<00:00, 4521.50rows/s]\n"
     ]
    }
   ],
   "source": [
    "import basedosdados as bd\n",
    "import pandas as pd\n",
    "\n",
    "# Definir a query SQL para buscar apenas os dados de janeiro de 2021\n",
    "sql_query = '''\n",
    "SELECT *\n",
    "FROM `basedosdados.br_anp_precos_combustiveis.microdados`\n",
    "WHERE (EXTRACT(YEAR FROM data_coleta) = 2020 OR EXTRACT(YEAR FROM data_coleta) = 2021)\n",
    "  AND EXTRACT(MONTH FROM data_coleta) = 1\n",
    "'''\n",
    "\n",
    "# Carregar apenas os dados filtrados para janeiro de 2021\n",
    "df = bd.read_sql(sql_query, billing_project_id=\"leafy-ripsaw-382815\")\n"
   ]
  },
  {
   "attachments": {},
   "cell_type": "markdown",
   "metadata": {},
   "source": [
    "#### Filtrando dataFrame com colunas adequadas ao projeto, removendo colunas que não irei utilizar.\n"
   ]
  },
  {
   "cell_type": "code",
   "execution_count": 2,
   "metadata": {},
   "outputs": [],
   "source": [
    "dfcombustiveis = df.drop(['nome_estabelecimento','id_municipio','cep_revenda','cnpj_revenda','bairro_revenda','endereco_revenda','preco_compra'],axis=1)\n",
    "\n"
   ]
  },
  {
   "attachments": {},
   "cell_type": "markdown",
   "metadata": {},
   "source": [
    "#### convertendo todas as colunas para letras minúsculas, para facilitar a busca\n"
   ]
  },
  {
   "cell_type": "code",
   "execution_count": 3,
   "metadata": {},
   "outputs": [],
   "source": [
    "dfcombustiveisLower = dfcombustiveis.applymap(lambda s: s.lower() if isinstance(s, str) else s)\n"
   ]
  },
  {
   "attachments": {},
   "cell_type": "markdown",
   "metadata": {},
   "source": [
    "## **Dados filtrados que estão dentro do dataframe escolhido**\n",
    "#### Todos os dados abaixo podem ser pesquisados no DataFrame.\n",
    "\n",
    "#### **Anos:**  2020,2021\n",
    "\n",
    "#### **UF:**  rs, sp, rj, mg, am, ce, df, se, ro, pb, pe, ba, pa, al, ac, es, pr, rn, pi, to, ms, mt, go, rr, sc, ap, ma\n",
    "\n",
    "#### **Revendedoras:**  branca, petrobras, distribuidora, s.a., raizen, ipiranga, nacional, gás, butano, copagaz, liquigás, ultragaz, supergasbras, energia, consigaz, rodoil, servgás, alesat, sabbá, \"atem, s\", equador, rzd, distribuidora, bahiana, setta, distribuidora, sp, dislub, amazongás, fogas, temape, atlântica, larco, minasgas, federal, simarelli, sul, combustíveis, petrox, distribuidora, stang, tobras, charrua, raizen, mime, small, taurus, royal, fic, idaza, uni, ciapetro, pelikano, potencial, ngc, distribuidora, total, brasil, tdc, distribuidora, maxsul, americanoil, rejaile, rio, branco, petrobahia, torrao, petroserra, fan, dibrape, masut, distribuidora, podium, hora, watt, ruff, c.j., walendowsky, montepetro, d`mais, gran, petro, supergasbras, dinamo, rm, petroleo, acol\n",
    "\n",
    "#### **Produtos:**  diesel, etanol, gasolina, diesel, s10, gasolina, aditivada, gnv, glp\n",
    "\n",
    "#### **Unidade de medida:**  R$/litro, R$/m3, R$/13kg"
   ]
  },
  {
   "cell_type": "code",
   "execution_count": 4,
   "metadata": {},
   "outputs": [
    {
     "name": "stdout",
     "output_type": "stream",
     "text": [
      "+---------------------------------------------------+-------------------------------------------------------------+\n",
      "| Digite o número da opção que você quer filtrar:   | Descrição de cada opção                                     |\n",
      "+===================================================+=============================================================+\n",
      "| sigla: [1]                                        | Filtrar o dataframe pelas siglas - uf dos locais.           |\n",
      "+---------------------------------------------------+-------------------------------------------------------------+\n",
      "| ano: [2]                                          | Filtrar o dataframe pelos anos de 2020 e 2021.              |\n",
      "+---------------------------------------------------+-------------------------------------------------------------+\n",
      "| revenda: [3]                                      | Filtrar o dataframe pelas mais de 30 revendas.              |\n",
      "+---------------------------------------------------+-------------------------------------------------------------+\n",
      "| produto: [4]                                      | Filtrar o dataframe pelos produtos gasolina, etanol, diesel |\n",
      "+---------------------------------------------------+-------------------------------------------------------------+\n"
     ]
    }
   ],
   "source": [
    "from tabulate import tabulate\n",
    "\n",
    "# Define a lista de opções do menu\n",
    "menu = [\n",
    "    [\"sigla: [1]\", \"Filtrar o dataframe pelas siglas - uf dos locais.\"],\n",
    "    [\"ano: [2]\", \"Filtrar o dataframe pelos anos de 2020 e 2021.\"],\n",
    "    [\"revenda: [3]\", \"Filtrar o dataframe pelas mais de 30 revendas.\"],\n",
    "    [\"produto: [4]\", \"Filtrar o dataframe pelos produtos gasolina, etanol, diesel\"]\n",
    "    \n",
    "]\n",
    "\n",
    "# Define a mensagem do cabeçalho da tabela\n",
    "header = \"Digite o número da opção que você quer filtrar:\"\n",
    "\n",
    "# Imprime a tabela na tela\n",
    "print(tabulate(menu, headers=[header, \"Descrição de cada opção\"], tablefmt=\"grid\"))\n"
   ]
  },
  {
   "attachments": {},
   "cell_type": "markdown",
   "metadata": {},
   "source": [
    "##### **Anos:**  2020,2021\n",
    "\n",
    "##### **UF:**  rs, sp, rj, mg, am, ce, df, se, ro, pb, pe, ba, pa, al, ac, es, pr, rn, pi, to, ms, mt, go, rr, sc, ap, ma\n",
    "\n",
    "##### **Revendedoras:**  branca, petrobras, distribuidora, s.a., raizen, ipiranga, nacional, gás, butano, copagaz, liquigás, ultragaz, supergasbras, energia, consigaz, rodoil, servgás, alesat, sabbá, \"atem, s\", equador, rzd, distribuidora, bahiana, setta, distribuidora, sp, dislub, amazongás, fogas, temape, atlântica, larco, minasgas, federal, simarelli, sul, combustíveis, petrox, distribuidora, stang, tobras, charrua, raizen, mime, small, taurus, royal, fic, idaza, uni, ciapetro, pelikano, potencial, ngc, distribuidora, total, brasil, tdc, distribuidora, maxsul, americanoil, rejaile, rio, branco, petrobahia, torrao, petroserra, fan, dibrape, masut, distribuidora, podium, hora, watt, ruff, c.j., walendowsky, montepetro, d`mais, gran, petro, supergasbras, dinamo, rm, petroleo, acol\n",
    "\n",
    "##### **Produtos:**  diesel, etanol, gasolina, diesel, s10, gasolina, aditivada, gnv, glp\n"
   ]
  },
  {
   "cell_type": "code",
   "execution_count": 5,
   "metadata": {},
   "outputs": [
    {
     "name": "stdout",
     "output_type": "stream",
     "text": [
      "Qual número da opção você deseja 1,2,3 ou 4 ? A\n",
      "Valor inválido. Tente novamente.\n",
      "Qual número da opção você deseja 1,2,3 ou 4 ? E\n",
      "Valor inválido. Tente novamente.\n",
      "Qual número da opção você deseja 1,2,3 ou 4 ? ?\n",
      "Valor inválido. Tente novamente.\n",
      "Qual número da opção você deseja 1,2,3 ou 4 ? 1\n",
      "Digite o sigla UF: SP\n",
      "\n",
      " DataFrame - filtrado por: sp\n",
      "\n",
      "+-------+------------+------------------------------+---------------+------------+------------------+---------------+\n",
      "|   ano | sigla_uf   | bandeira_revenda             | data_coleta   | produto    | unidade_medida   |   preco_venda |\n",
      "+=======+============+==============================+===============+============+==================+===============+\n",
      "|  2021 | sp         | petrobras distribuidora s.a. | 2021-01-01    | etanol     | r$/litro         |         2.999 |\n",
      "+-------+------------+------------------------------+---------------+------------+------------------+---------------+\n",
      "|  2021 | sp         | petrobras distribuidora s.a. | 2021-01-01    | gasolina   | r$/litro         |         4.279 |\n",
      "+-------+------------+------------------------------+---------------+------------+------------------+---------------+\n",
      "|  2021 | sp         | branca                       | 2021-01-01    | diesel s10 | r$/litro         |         3.499 |\n",
      "+-------+------------+------------------------------+---------------+------------+------------------+---------------+\n",
      "|  2021 | sp         | branca                       | 2021-01-01    | diesel s10 | r$/litro         |         3.459 |\n",
      "+-------+------------+------------------------------+---------------+------------+------------------+---------------+\n",
      "|  2021 | sp         | raizen                       | 2021-01-01    | diesel s10 | r$/litro         |         3.799 |\n",
      "+-------+------------+------------------------------+---------------+------------+------------------+---------------+\n"
     ]
    }
   ],
   "source": [
    "\n",
    "while True:\n",
    "  try:\n",
    "    opcao = (input(\"Qual número da opção você deseja 1,2,3 ou 4 ? \"))\n",
    "    opcao = int(opcao)\n",
    "    if opcao == 1:\n",
    "      sigla = input(\"Digite o sigla UF: \").lower()\n",
    "      dataframeFiltrado = dfcombustiveisLower[(dfcombustiveisLower['sigla_uf'] == sigla)]\n",
    "      dataframeList = dataframeFiltrado.head().values.tolist()\n",
    "      print(f\"\\n DataFrame - filtrado por: {sigla}\\n\")\n",
    "      print(tabulate(dataframeList,headers=dfcombustiveis.columns, tablefmt='grid'))\n",
    "    elif opcao == 2:\n",
    "      ano = int(input(\"Digite o ano: \"))\n",
    "      dataframeFiltrado = dfcombustiveisLower[(dfcombustiveisLower['ano'] == ano)]\n",
    "      dataframeList = dataframeFiltrado.head().values.tolist()\n",
    "      print(f\"\\n DataFrame - filtrado por: {ano}\\n\")\n",
    "      print(tabulate(dataframeList,headers=dfcombustiveis.columns, tablefmt='grid'))\n",
    "    elif opcao == 3:\n",
    "      revenda = str(input(\"Digite qual revendedora quer procurar: \")).lower()\n",
    "      dataframeFiltrado = dfcombustiveisLower[(dfcombustiveisLower['bandeira_revenda'] == revenda)]\n",
    "      dataframeList = dataframeFiltrado.head().values.tolist()\n",
    "      print(f\"\\n DataFrame - filtrado por: {revenda}\\n\")\n",
    "      print(tabulate(dataframeList,headers=dfcombustiveis.columns, tablefmt='grid'))\n",
    "    elif opcao == 4:\n",
    "      produto = input(\"Digite qual combustivel quer procurar: \").lower()\n",
    "      dataframeFiltrado = dfcombustiveisLower[(dfcombustiveisLower['produto'] == produto)]\n",
    "      dataframeList = dataframeFiltrado.head().values.tolist()\n",
    "      print(f\"\\n DataFrame - filtrado por: {produto}\\n\")\n",
    "      print(tabulate(dataframeList,headers=dfcombustiveis.columns, tablefmt='grid'))\n",
    "    elif opcao == 0:\n",
    "      print('Você saiu do programa, obrigado!!')\n",
    "    break\n",
    "  except ValueError:\n",
    "    print(\"Valor inválido. Tente novamente.\")\n",
    "  "
   ]
  },
  {
   "attachments": {},
   "cell_type": "markdown",
   "metadata": {},
   "source": [
    "#### DataFrame que foi filtrado:"
   ]
  },
  {
   "cell_type": "code",
   "execution_count": 6,
   "metadata": {},
   "outputs": [
    {
     "data": {
      "text/html": [
       "<div>\n",
       "<style scoped>\n",
       "    .dataframe tbody tr th:only-of-type {\n",
       "        vertical-align: middle;\n",
       "    }\n",
       "\n",
       "    .dataframe tbody tr th {\n",
       "        vertical-align: top;\n",
       "    }\n",
       "\n",
       "    .dataframe thead th {\n",
       "        text-align: right;\n",
       "    }\n",
       "</style>\n",
       "<table border=\"1\" class=\"dataframe\">\n",
       "  <thead>\n",
       "    <tr style=\"text-align: right;\">\n",
       "      <th></th>\n",
       "      <th>ano</th>\n",
       "      <th>sigla_uf</th>\n",
       "      <th>bandeira_revenda</th>\n",
       "      <th>data_coleta</th>\n",
       "      <th>produto</th>\n",
       "      <th>unidade_medida</th>\n",
       "      <th>preco_venda</th>\n",
       "    </tr>\n",
       "  </thead>\n",
       "  <tbody>\n",
       "    <tr>\n",
       "      <th>1</th>\n",
       "      <td>2021</td>\n",
       "      <td>sp</td>\n",
       "      <td>petrobras distribuidora s.a.</td>\n",
       "      <td>2021-01-01</td>\n",
       "      <td>etanol</td>\n",
       "      <td>r$/litro</td>\n",
       "      <td>2.999</td>\n",
       "    </tr>\n",
       "    <tr>\n",
       "      <th>2</th>\n",
       "      <td>2021</td>\n",
       "      <td>sp</td>\n",
       "      <td>petrobras distribuidora s.a.</td>\n",
       "      <td>2021-01-01</td>\n",
       "      <td>gasolina</td>\n",
       "      <td>r$/litro</td>\n",
       "      <td>4.279</td>\n",
       "    </tr>\n",
       "    <tr>\n",
       "      <th>3</th>\n",
       "      <td>2021</td>\n",
       "      <td>sp</td>\n",
       "      <td>branca</td>\n",
       "      <td>2021-01-01</td>\n",
       "      <td>diesel s10</td>\n",
       "      <td>r$/litro</td>\n",
       "      <td>3.499</td>\n",
       "    </tr>\n",
       "    <tr>\n",
       "      <th>4</th>\n",
       "      <td>2021</td>\n",
       "      <td>sp</td>\n",
       "      <td>branca</td>\n",
       "      <td>2021-01-01</td>\n",
       "      <td>diesel s10</td>\n",
       "      <td>r$/litro</td>\n",
       "      <td>3.459</td>\n",
       "    </tr>\n",
       "    <tr>\n",
       "      <th>5</th>\n",
       "      <td>2021</td>\n",
       "      <td>sp</td>\n",
       "      <td>raizen</td>\n",
       "      <td>2021-01-01</td>\n",
       "      <td>diesel s10</td>\n",
       "      <td>r$/litro</td>\n",
       "      <td>3.799</td>\n",
       "    </tr>\n",
       "    <tr>\n",
       "      <th>...</th>\n",
       "      <td>...</td>\n",
       "      <td>...</td>\n",
       "      <td>...</td>\n",
       "      <td>...</td>\n",
       "      <td>...</td>\n",
       "      <td>...</td>\n",
       "      <td>...</td>\n",
       "    </tr>\n",
       "    <tr>\n",
       "      <th>325423</th>\n",
       "      <td>2021</td>\n",
       "      <td>sp</td>\n",
       "      <td>raizen</td>\n",
       "      <td>2021-01-31</td>\n",
       "      <td>gasolina aditivada</td>\n",
       "      <td>r$/litro</td>\n",
       "      <td>4.727</td>\n",
       "    </tr>\n",
       "    <tr>\n",
       "      <th>325424</th>\n",
       "      <td>2021</td>\n",
       "      <td>sp</td>\n",
       "      <td>ipiranga</td>\n",
       "      <td>2021-01-31</td>\n",
       "      <td>gasolina</td>\n",
       "      <td>r$/litro</td>\n",
       "      <td>4.599</td>\n",
       "    </tr>\n",
       "    <tr>\n",
       "      <th>325425</th>\n",
       "      <td>2021</td>\n",
       "      <td>sp</td>\n",
       "      <td>raizen</td>\n",
       "      <td>2021-01-31</td>\n",
       "      <td>diesel s10</td>\n",
       "      <td>r$/litro</td>\n",
       "      <td>3.829</td>\n",
       "    </tr>\n",
       "    <tr>\n",
       "      <th>325427</th>\n",
       "      <td>2021</td>\n",
       "      <td>sp</td>\n",
       "      <td>branca</td>\n",
       "      <td>2021-01-31</td>\n",
       "      <td>gasolina aditivada</td>\n",
       "      <td>r$/litro</td>\n",
       "      <td>4.681</td>\n",
       "    </tr>\n",
       "    <tr>\n",
       "      <th>325430</th>\n",
       "      <td>2021</td>\n",
       "      <td>sp</td>\n",
       "      <td>petrobras distribuidora s.a.</td>\n",
       "      <td>2021-01-31</td>\n",
       "      <td>etanol</td>\n",
       "      <td>r$/litro</td>\n",
       "      <td>3.399</td>\n",
       "    </tr>\n",
       "  </tbody>\n",
       "</table>\n",
       "<p>86386 rows × 7 columns</p>\n",
       "</div>"
      ],
      "text/plain": [
       "         ano sigla_uf              bandeira_revenda data_coleta  \\\n",
       "1       2021       sp  petrobras distribuidora s.a.  2021-01-01   \n",
       "2       2021       sp  petrobras distribuidora s.a.  2021-01-01   \n",
       "3       2021       sp                        branca  2021-01-01   \n",
       "4       2021       sp                        branca  2021-01-01   \n",
       "5       2021       sp                        raizen  2021-01-01   \n",
       "...      ...      ...                           ...         ...   \n",
       "325423  2021       sp                        raizen  2021-01-31   \n",
       "325424  2021       sp                      ipiranga  2021-01-31   \n",
       "325425  2021       sp                        raizen  2021-01-31   \n",
       "325427  2021       sp                        branca  2021-01-31   \n",
       "325430  2021       sp  petrobras distribuidora s.a.  2021-01-31   \n",
       "\n",
       "                   produto unidade_medida  preco_venda  \n",
       "1                   etanol       r$/litro        2.999  \n",
       "2                 gasolina       r$/litro        4.279  \n",
       "3               diesel s10       r$/litro        3.499  \n",
       "4               diesel s10       r$/litro        3.459  \n",
       "5               diesel s10       r$/litro        3.799  \n",
       "...                    ...            ...          ...  \n",
       "325423  gasolina aditivada       r$/litro        4.727  \n",
       "325424            gasolina       r$/litro        4.599  \n",
       "325425          diesel s10       r$/litro        3.829  \n",
       "325427  gasolina aditivada       r$/litro        4.681  \n",
       "325430              etanol       r$/litro        3.399  \n",
       "\n",
       "[86386 rows x 7 columns]"
      ]
     },
     "execution_count": 6,
     "metadata": {},
     "output_type": "execute_result"
    }
   ],
   "source": [
    "dataframeFiltrado\n"
   ]
  },
  {
   "cell_type": "code",
   "execution_count": 21,
   "metadata": {},
   "outputs": [
    {
     "name": "stdout",
     "output_type": "stream",
     "text": [
      "Você quer salvar o arquivo nos formatos xlsx e csv ? s/n ou qualquer teclas para finalizar...s\n",
      "Digite o nome da pasta que deseja salvar o arquivo ou digite download para salvar no diretorio padrão.combustiveis\n",
      "Arquivo salvo com sucesso.....\n"
     ]
    }
   ],
   "source": [
    "import os\n",
    "import xlwt\n",
    "from pandas.io.formats.excel import ExcelFormatter\n",
    "resposta = str(input(\"Você quer salvar o arquivo nos formatos xlsx e csv ? s/n ou qualquer teclas para finalizar...\")).lower()\n",
    "if resposta == 's':\n",
    "  diretorio_destino = str(input(\"Digite o nome da pasta que deseja salvar o arquivo ou digite download para salvar no diretorio padrão.\")).lower()\n",
    "  if diretorio_destino == 'download':\n",
    "    diretorio_destino = \"C:\\\\Users\\\\cs376562\\\\Downloads\"\n",
    "  elif diretorio_destino != 'download':\n",
    "    diretorio_destino = f\"C:\\\\Users\\\\cs376562\\\\{diretorio_destino}\"\n",
    "  if not os.path.exists(diretorio_destino):\n",
    "    os.makedirs(diretorio_destino)\n",
    "  caminho_csv = os.path.join(diretorio_destino, 'dataframeCombustivel.csv')\n",
    "  df.to_csv(caminho_csv, index=False)\n",
    "  caminho_xlsx = os.path.join(diretorio_destino, 'dataframeCombustivel.xlsx')\n",
    "  df.to_excel(caminho_xlsx, index=False)\n",
    "  print(\"Arquivo salvo com sucesso.....\")\n",
    "else:\n",
    "  print(\"Obrigado pela sua participação, agradeço que você não usou memoria da maquina para salvar o arquivo...... kkkkk\")\n"
   ]
  },
  {
   "cell_type": "code",
   "execution_count": 7,
   "metadata": {},
   "outputs": [
    {
     "name": "stdout",
     "output_type": "stream",
     "text": [
      "Arquivo salvo com sucesso.....\n"
     ]
    }
   ],
   "source": [
    "# if resposta == 's':\n",
    "#   dataframeFiltrado.to_csv('dataframeCombustivel.csv', index=False)\n",
    "#   dataframeFiltrado.to_excel('dataframeCombustivel.xlsx', index=False)\n",
    "#   print(\"Arquivo salvo com sucesso.....\")\n",
    "# else:\n",
    "#   print(\"Obrigado pela sua participação, agradeço que você não usou memoria da maquina para salvar o arquivo...... kkkkk\")\n",
    "\n"
   ]
  },
  {
   "cell_type": "code",
   "execution_count": null,
   "metadata": {},
   "outputs": [],
   "source": [
    "# print('ano:', dfcombustiveisLower['ano'].unique())\n",
    "# print('sigla_uf', dfcombustiveisLower['sigla_uf'].unique())\n",
    "# print('bandeira_revenda', dfcombustiveisLower['bandeira_revenda'].unique())\n",
    "# print('produto', dfcombustiveisLower['produto'].unique())\n",
    "# print('unidade_medida', dfcombustiveisLower['unidade_medida'].unique())\n",
    "# print('unidade_medida',dfcombustiveisLower['unidade_medida'].unique())"
   ]
  }
 ],
 "metadata": {
  "kernelspec": {
   "display_name": "Python 3 (ipykernel)",
   "language": "python",
   "name": "python3"
  },
  "language_info": {
   "codemirror_mode": {
    "name": "ipython",
    "version": 3
   },
   "file_extension": ".py",
   "mimetype": "text/x-python",
   "name": "python",
   "nbconvert_exporter": "python",
   "pygments_lexer": "ipython3",
   "version": "3.10.6"
  }
 },
 "nbformat": 4,
 "nbformat_minor": 2
}
