{
 "cells": [
  {
   "cell_type": "markdown",
   "metadata": {},
   "source": [
    "INSTALAÇÃO DE BIBLIOTECAS NECESSÁRIAS\n"
   ]
  },
  {
   "cell_type": "code",
   "execution_count": null,
   "metadata": {
    "scrolled": false
   },
   "outputs": [],
   "source": [
    "!pip install xlwt\n",
    "!pip install basedosdados\n",
    "!pip install pandas\n",
    "!pip install tabulate\n",
    "!pip install os\n",
    "!pip install openpyxl"
   ]
  },
  {
   "cell_type": "markdown",
   "metadata": {},
   "source": [
    "##### Importando bibliotecas que vou usar "
   ]
  },
  {
   "cell_type": "code",
   "execution_count": 16,
   "metadata": {},
   "outputs": [],
   "source": [
    "import basedosdados as bd\n",
    "import pandas as pd\n",
    "from unidecode import unidecode\n",
    "from tabulate import tabulate"
   ]
  },
  {
   "cell_type": "markdown",
   "metadata": {},
   "source": [
    "## **Preços de Combustíveis - Dados históricos**\n",
    "#### **Organização**:    Agência Nacional do Petróleo, Gás Natural e Biocombustíveis (ANP)\n",
    "##### **Cobertura temporal** : 2020 - 2021 (Mês de janeiro)"
   ]
  },
  {
   "cell_type": "code",
   "execution_count": null,
   "metadata": {},
   "outputs": [],
   "source": [
    "\n",
    "\n",
    "# Definir a query SQL para buscar apenas os dados de janeiro de 2021\n",
    "sql_query = '''\n",
    "SELECT *\n",
    "FROM `basedosdados.br_anp_precos_combustiveis.microdados`\n",
    "WHERE (EXTRACT(YEAR FROM data_coleta) = 2020 OR EXTRACT(YEAR FROM data_coleta) = 2021)\n",
    "  AND EXTRACT(MONTH FROM data_coleta) = 1\n",
    "'''\n",
    "\n",
    "# Carregar apenas os dados filtrados para janeiro de 2021\n",
    "df = bd.read_sql(sql_query, billing_project_id=\"leafy-ripsaw-382815\")\n"
   ]
  },
  {
   "cell_type": "markdown",
   "metadata": {},
   "source": [
    "#### Após fazer a query no banco de dados, salvei a pesquisa em um arquivo excel para facilitar as proximas pesquisas por causa da internet\n"
   ]
  },
  {
   "cell_type": "code",
   "execution_count": null,
   "metadata": {},
   "outputs": [],
   "source": [
    "df.to_excel('dfcombustiveis.xlsx', index=False)\n"
   ]
  },
  {
   "cell_type": "markdown",
   "metadata": {},
   "source": [
    "#### Lendo arquivo excel com a biblioteca pandas.\n"
   ]
  },
  {
   "cell_type": "code",
   "execution_count": 2,
   "metadata": {},
   "outputs": [],
   "source": [
    "dfcombustiveis = pd.read_excel('dfcombustiveis.xlsx')"
   ]
  },
  {
   "cell_type": "markdown",
   "metadata": {},
   "source": [
    "#### Filtrando dataFrame com colunas adequadas ao projeto, removendo colunas que não irei utilizar.\n"
   ]
  },
  {
   "cell_type": "code",
   "execution_count": 3,
   "metadata": {},
   "outputs": [],
   "source": [
    "dfcombustiveis = dfcombustiveis.drop(['nome_estabelecimento','id_municipio','cep_revenda','cnpj_revenda','bairro_revenda','endereco_revenda','preco_compra','data_coleta'],axis=1)\n",
    "\n"
   ]
  },
  {
   "cell_type": "markdown",
   "metadata": {},
   "source": [
    "#### convertendo todas as colunas para letras minúsculas, para facilitar a busca\n"
   ]
  },
  {
   "cell_type": "code",
   "execution_count": 4,
   "metadata": {},
   "outputs": [],
   "source": [
    "dfcombustiveisLower = dfcombustiveis.applymap(lambda s: s.lower() if isinstance(s, str) else s)\n"
   ]
  },
  {
   "cell_type": "markdown",
   "metadata": {},
   "source": [
    "#### Função para remover todos os acentos de todas as palavras nas colunas do dataframe\n"
   ]
  },
  {
   "cell_type": "code",
   "execution_count": 5,
   "metadata": {},
   "outputs": [],
   "source": [
    "def remover_acentos(texto):\n",
    "    if texto is not None:\n",
    "        return unidecode(texto)\n",
    "    else:\n",
    "        return texto"
   ]
  },
  {
   "cell_type": "markdown",
   "metadata": {},
   "source": [
    "#### remover acentos de todas as palavras das colunas do dataframe\n"
   ]
  },
  {
   "cell_type": "code",
   "execution_count": 6,
   "metadata": {},
   "outputs": [],
   "source": [
    "colunas_selecionadas = ['bandeira_revenda', 'produto']\n",
    "dfcombustiveisLower = dfcombustiveisLower.copy()\n",
    "dfcombustiveisLower[colunas_selecionadas] = dfcombustiveisLower[colunas_selecionadas].apply(lambda col: col.map(remover_acentos) if col.dtype == object and not issubclass(col.dtype.type, pd.core.dtypes.dtypes.DatetimeTZDtype) else col)\n"
   ]
  },
  {
   "cell_type": "code",
   "execution_count": 10,
   "metadata": {},
   "outputs": [],
   "source": []
  },
  {
   "cell_type": "markdown",
   "metadata": {},
   "source": [
    "## **Dados filtrados que estão dentro do dataframe escolhido**\n",
    "#### Todos os dados abaixo podem ser pesquisados no DataFrame.\n",
    "\n",
    "#### **Anos:**  2020,2021\n",
    "\n",
    "#### **UF:**  rs, sp, rj, mg, am, ce, df, se, ro, pb, pe, ba, pa, al, ac, es, pr, rn, pi, to, ms, mt, go, rr, sc, ap, ma\n",
    "\n",
    "#### **Revendedoras:**  branca, petrobras, distribuidora, s.a., raizen, ipiranga, nacional, gas, butano, copagaz, liquigas, ultragaz, supergasbras, energia, consigaz, rodoil, servgas, alesat, sabba, equador, rzd, distribuidora, bahiana, setta, distribuidora, sp, dislub, amazongas, fogas, temape, atlantica, larco, minasgas, federal, simarelli, sul, combustiveis, petrox, distribuidora, stang, tobras, charrua, raizen, mime, small, taurus, royal, fic, idaza, uni, ciapetro, pelikano, potencial, ngc, distribuidora, total, brasil, tdc, distribuidora, maxsul, americanoil, rejaile, rio, branco, petrobahia, torrao, petroserra, fan, dibrape, masut, distribuidora, podium, hora, watt, ruff, walendowsky, montepetro, d`mais, gran, petro, supergasbras, dinamo, rm, petroleo, acol\n",
    "\n",
    "#### **Produtos:**  diesel, etanol, gasolina, diesel, s10, gasolina, aditivada, gnv, glp\n",
    "\n",
    "#### **Unidade de medida:**  R$/litro, R$/m3, R$/13kg"
   ]
  },
  {
   "cell_type": "code",
   "execution_count": 17,
   "metadata": {},
   "outputs": [
    {
     "name": "stdout",
     "output_type": "stream",
     "text": [
      "Digite o número da opção que você quer filtrar:\n",
      "\n",
      "sigla(UF): 1\n",
      "Ano: 2\n",
      "Revenda: 3\n",
      "Produto: 4\n",
      "Qual número da opção você deseja (1, 2, 3 ou 4)? ano\n",
      "Valor inválido. Tente novamente.\n",
      "Qual número da opção você deseja (1, 2, 3 ou 4)? 2\n",
      "Digite qual ano você quer procurar: [2021, 2020]2021\n",
      "\n",
      " DataFrame - filtrado por: 2021\n",
      "\n",
      "+-------+------------+------------------------------+------------+------------------+---------------+\n",
      "|   ano | sigla_uf   | bandeira_revenda             | produto    | unidade_medida   |   preco_venda |\n",
      "+=======+============+==============================+============+==================+===============+\n",
      "|  2021 | rs         | branca                       | diesel     | r$/litro         |         3.499 |\n",
      "+-------+------------+------------------------------+------------+------------------+---------------+\n",
      "|  2021 | sp         | petrobras distribuidora s.a. | etanol     | r$/litro         |         2.999 |\n",
      "+-------+------------+------------------------------+------------+------------------+---------------+\n",
      "|  2021 | sp         | petrobras distribuidora s.a. | gasolina   | r$/litro         |         4.279 |\n",
      "+-------+------------+------------------------------+------------+------------------+---------------+\n",
      "|  2021 | sp         | branca                       | diesel s10 | r$/litro         |         3.499 |\n",
      "+-------+------------+------------------------------+------------+------------------+---------------+\n",
      "|  2021 | sp         | branca                       | diesel s10 | r$/litro         |         3.459 |\n",
      "+-------+------------+------------------------------+------------+------------------+---------------+\n"
     ]
    }
   ],
   "source": [
    "print('Digite o número da opção que você quer filtrar:\\n')\n",
    "print('sigla(UF): 1\\nAno: 2\\nRevenda: 3\\nProduto: 4')\n",
    "\n",
    "while True:\n",
    "  \n",
    "\n",
    "    opcao = input(\"Qual número da opção você deseja (1, 2, 3 ou 4)? \")\n",
    "\n",
    "    if opcao.isdigit():\n",
    "        opcao = int(opcao)\n",
    "\n",
    "        if opcao in [1, 2, 3, 4]:\n",
    "            break\n",
    "\n",
    "    print(\"Valor inválido. Tente novamente.\")\n",
    "\n",
    "if opcao == 1:\n",
    "  siglas = dfcombustiveisLower['sigla_uf'].unique()\n",
    "  siglas = siglas.tolist()\n",
    "  sigla = input(f\"Digite uma dessas siglas UF: {siglas}\").lower()\n",
    "  while sigla not in siglas:\n",
    "    print(\"Sigla inválida. Tente novamente.\")\n",
    "    sigla = input(f\"Digite uma dessas siglas UF: {siglas}\").lower()\n",
    "  dataframeFiltrado = dfcombustiveisLower[dfcombustiveisLower['sigla_uf'] == sigla]\n",
    "  dataframeList = dataframeFiltrado.head().values.tolist()\n",
    "  print(f\"\\n DataFrame - filtrado por: {sigla}\\n\")\n",
    "  print(tabulate(dataframeList, headers=dfcombustiveis.columns, tablefmt='grid'))\n",
    "elif opcao == 2:\n",
    "    anos = dfcombustiveisLower['ano'].unique()\n",
    "    listaAnos = anos.tolist()\n",
    "    while True:\n",
    "        try:\n",
    "            ano = int(input(f\"Digite qual ano você quer procurar: {listaAnos}\"))\n",
    "            if ano in listaAnos:\n",
    "                break\n",
    "            else:\n",
    "                print(\"Ano inválido. Tente novamente.\")\n",
    "        except ValueError:\n",
    "            print(\"Ano inválido. Digite um número inteiro.\")\n",
    "    dataframeFiltrado = dfcombustiveisLower[dfcombustiveisLower['ano'] == ano]\n",
    "    dataframeList = dataframeFiltrado.head().values.tolist()\n",
    "    print(f\"\\n DataFrame - filtrado por: {ano}\\n\")\n",
    "    print(tabulate(dataframeList, headers=dfcombustiveis.columns, tablefmt='grid'))\n",
    "elif opcao == 3:\n",
    "  revendas = dfcombustiveisLower['bandeira_revenda'].unique()\n",
    "  revendas = revendas.tolist()\n",
    "  revenda = input(f\"Digite qual dessas revendedoras você quer procurar: {revendas}\").lower()\n",
    "  while revenda not in revendas:\n",
    "    print(\"Revenda inválida. Tente novamente.\")\n",
    "    revenda = input(f\"Digite qual dessas revendedoras você quer procurar: {revendas}\").lower()\n",
    "  dataframeFiltrado = dfcombustiveisLower[dfcombustiveisLower['bandeira_revenda'] == revenda]\n",
    "  dataframeList = dataframeFiltrado.head().values.tolist()\n",
    "  print(f\"\\n DataFrame - filtrado por: {revenda}\\n\")\n",
    "  print(tabulate(dataframeList, headers=dfcombustiveis.columns, tablefmt='grid'))\n",
    "elif opcao == 4:\n",
    "  produtos = dfcombustiveisLower['produto'].unique()\n",
    "  produtos = produtos.tolist()\n",
    "  produto = input(f\"Digite qual desses combustíveis você quer procurar: {produtos} \").lower()\n",
    "  while produto not in produtos:\n",
    "    print(\"Produto inválido. Tente novamente.\")\n",
    "    produto = input(f\"Digite qual desses combustíveis você quer procurar: {produtos} \").lower()\n",
    "  dataframeFiltrado = dfcombustiveisLower[dfcombustiveisLower['produto'] == produto]\n",
    "  dataframeList = dataframeFiltrado.head().values.tolist()\n",
    "  print(f\"\\n DataFrame - filtrado por: {produto}\\n\")\n",
    "  print(tabulate(dataframeList, headers=dfcombustiveis.columns, tablefmt='grid'))\n",
    "elif opcao == 0:\n",
    "  print('Você saiu do programa, obrigado!!')\n",
    "  "
   ]
  },
  {
   "cell_type": "markdown",
   "metadata": {},
   "source": [
    "#### DataFrame que foi filtrado:"
   ]
  },
  {
   "cell_type": "code",
   "execution_count": 18,
   "metadata": {},
   "outputs": [
    {
     "data": {
      "text/html": [
       "<div>\n",
       "<style scoped>\n",
       "    .dataframe tbody tr th:only-of-type {\n",
       "        vertical-align: middle;\n",
       "    }\n",
       "\n",
       "    .dataframe tbody tr th {\n",
       "        vertical-align: top;\n",
       "    }\n",
       "\n",
       "    .dataframe thead th {\n",
       "        text-align: right;\n",
       "    }\n",
       "</style>\n",
       "<table border=\"1\" class=\"dataframe\">\n",
       "  <thead>\n",
       "    <tr style=\"text-align: right;\">\n",
       "      <th></th>\n",
       "      <th>ano</th>\n",
       "      <th>sigla_uf</th>\n",
       "      <th>bandeira_revenda</th>\n",
       "      <th>produto</th>\n",
       "      <th>unidade_medida</th>\n",
       "      <th>preco_venda</th>\n",
       "    </tr>\n",
       "  </thead>\n",
       "  <tbody>\n",
       "    <tr>\n",
       "      <th>0</th>\n",
       "      <td>2021</td>\n",
       "      <td>rs</td>\n",
       "      <td>branca</td>\n",
       "      <td>diesel</td>\n",
       "      <td>r$/litro</td>\n",
       "      <td>3.499</td>\n",
       "    </tr>\n",
       "    <tr>\n",
       "      <th>1</th>\n",
       "      <td>2021</td>\n",
       "      <td>sp</td>\n",
       "      <td>petrobras distribuidora s.a.</td>\n",
       "      <td>etanol</td>\n",
       "      <td>r$/litro</td>\n",
       "      <td>2.999</td>\n",
       "    </tr>\n",
       "    <tr>\n",
       "      <th>2</th>\n",
       "      <td>2021</td>\n",
       "      <td>sp</td>\n",
       "      <td>petrobras distribuidora s.a.</td>\n",
       "      <td>gasolina</td>\n",
       "      <td>r$/litro</td>\n",
       "      <td>4.279</td>\n",
       "    </tr>\n",
       "    <tr>\n",
       "      <th>3</th>\n",
       "      <td>2021</td>\n",
       "      <td>sp</td>\n",
       "      <td>branca</td>\n",
       "      <td>diesel s10</td>\n",
       "      <td>r$/litro</td>\n",
       "      <td>3.499</td>\n",
       "    </tr>\n",
       "    <tr>\n",
       "      <th>4</th>\n",
       "      <td>2021</td>\n",
       "      <td>sp</td>\n",
       "      <td>branca</td>\n",
       "      <td>diesel s10</td>\n",
       "      <td>r$/litro</td>\n",
       "      <td>3.459</td>\n",
       "    </tr>\n",
       "    <tr>\n",
       "      <th>...</th>\n",
       "      <td>...</td>\n",
       "      <td>...</td>\n",
       "      <td>...</td>\n",
       "      <td>...</td>\n",
       "      <td>...</td>\n",
       "      <td>...</td>\n",
       "    </tr>\n",
       "    <tr>\n",
       "      <th>325428</th>\n",
       "      <td>2021</td>\n",
       "      <td>mg</td>\n",
       "      <td>branca</td>\n",
       "      <td>etanol</td>\n",
       "      <td>r$/litro</td>\n",
       "      <td>3.699</td>\n",
       "    </tr>\n",
       "    <tr>\n",
       "      <th>325429</th>\n",
       "      <td>2021</td>\n",
       "      <td>mg</td>\n",
       "      <td>alesat</td>\n",
       "      <td>gasolina</td>\n",
       "      <td>r$/litro</td>\n",
       "      <td>4.856</td>\n",
       "    </tr>\n",
       "    <tr>\n",
       "      <th>325430</th>\n",
       "      <td>2021</td>\n",
       "      <td>sp</td>\n",
       "      <td>petrobras distribuidora s.a.</td>\n",
       "      <td>etanol</td>\n",
       "      <td>r$/litro</td>\n",
       "      <td>3.399</td>\n",
       "    </tr>\n",
       "    <tr>\n",
       "      <th>325431</th>\n",
       "      <td>2021</td>\n",
       "      <td>mg</td>\n",
       "      <td>branca</td>\n",
       "      <td>diesel</td>\n",
       "      <td>r$/litro</td>\n",
       "      <td>3.865</td>\n",
       "    </tr>\n",
       "    <tr>\n",
       "      <th>325432</th>\n",
       "      <td>2021</td>\n",
       "      <td>mg</td>\n",
       "      <td>alesat</td>\n",
       "      <td>gasolina</td>\n",
       "      <td>r$/litro</td>\n",
       "      <td>5.080</td>\n",
       "    </tr>\n",
       "  </tbody>\n",
       "</table>\n",
       "<p>161438 rows × 6 columns</p>\n",
       "</div>"
      ],
      "text/plain": [
       "         ano sigla_uf              bandeira_revenda     produto  \\\n",
       "0       2021       rs                        branca      diesel   \n",
       "1       2021       sp  petrobras distribuidora s.a.      etanol   \n",
       "2       2021       sp  petrobras distribuidora s.a.    gasolina   \n",
       "3       2021       sp                        branca  diesel s10   \n",
       "4       2021       sp                        branca  diesel s10   \n",
       "...      ...      ...                           ...         ...   \n",
       "325428  2021       mg                        branca      etanol   \n",
       "325429  2021       mg                        alesat    gasolina   \n",
       "325430  2021       sp  petrobras distribuidora s.a.      etanol   \n",
       "325431  2021       mg                        branca      diesel   \n",
       "325432  2021       mg                        alesat    gasolina   \n",
       "\n",
       "       unidade_medida  preco_venda  \n",
       "0            r$/litro        3.499  \n",
       "1            r$/litro        2.999  \n",
       "2            r$/litro        4.279  \n",
       "3            r$/litro        3.499  \n",
       "4            r$/litro        3.459  \n",
       "...               ...          ...  \n",
       "325428       r$/litro        3.699  \n",
       "325429       r$/litro        4.856  \n",
       "325430       r$/litro        3.399  \n",
       "325431       r$/litro        3.865  \n",
       "325432       r$/litro        5.080  \n",
       "\n",
       "[161438 rows x 6 columns]"
      ]
     },
     "execution_count": 18,
     "metadata": {},
     "output_type": "execute_result"
    }
   ],
   "source": [
    "dataframeFiltrado\n"
   ]
  },
  {
   "cell_type": "code",
   "execution_count": 19,
   "metadata": {},
   "outputs": [
    {
     "name": "stdout",
     "output_type": "stream",
     "text": [
      "Você quer salvar o arquivo nos formatos xlsx e csv ? digite (s) para sim ou (n) para não, ou qualquer teclas para finalizar...n\n",
      "Obrigado pela sua participação, agradeço que você não usou memoria da maquina para salvar o arquivo...... kkkkk\n"
     ]
    }
   ],
   "source": [
    "import os\n",
    "import xlwt\n",
    "from pandas.io.formats.excel import ExcelFormatter\n",
    "while True:\n",
    "  resposta = str(input(\"Você quer salvar o arquivo nos formatos xlsx e csv ? digite (s) para sim ou (n) para não, ou qualquer teclas para finalizar...\")).lower()\n",
    "  if resposta =='n':\n",
    "    print(\"Obrigado pela sua participação, agradeço que você não usou memoria da maquina para salvar o arquivo...... kkkkk\")\n",
    "    break\n",
    "  elif resposta == 's':\n",
    "        diretorio_destino = str(input(\"Digite o nome da pasta que deseja salvar o arquivo ou digite download para salvar no diretorio padrão.\")).lower()\n",
    "        if diretorio_destino == 'download':\n",
    "          print(\"Processando, aguarde......\")   \n",
    "          diretorio_raiz = os.path.expanduser(\"~\")\n",
    "          diretorio_destino = os.path.join(diretorio_raiz, 'Downloads')\n",
    "        elif diretorio_destino != 'download':\n",
    "          print(\"Processando, aguarde......\")\n",
    "          diretorio_raiz = os.path.expanduser(\"~\")\n",
    "          diretorio_destino = os.path.join(diretorio_raiz, diretorio_destino)\n",
    "        if not os.path.exists(diretorio_destino):\n",
    "          os.makedirs(diretorio_destino)\n",
    "        caminho_csv = os.path.join(diretorio_destino, 'dataframeCombustivel.csv')\n",
    "        dataframeFiltrado.to_csv(caminho_csv, index=False)\n",
    "        caminho_xlsx = os.path.join(diretorio_destino, 'dataframeCombustivel.xlsx')\n",
    "        dataframeFiltrado.to_excel(caminho_xlsx, index=False)\n",
    "        print(f\"Arquivo salvo com sucesso.....no diretório: {diretorio_destino}\")\n",
    "        break\n",
    "  else:\n",
    "    print(\"Opção inválida. Tente novamente.\")\n"
   ]
  }
 ],
 "metadata": {
  "kernelspec": {
   "display_name": "Python 3 (ipykernel)",
   "language": "python",
   "name": "python3"
  },
  "language_info": {
   "codemirror_mode": {
    "name": "ipython",
    "version": 3
   },
   "file_extension": ".py",
   "mimetype": "text/x-python",
   "name": "python",
   "nbconvert_exporter": "python",
   "pygments_lexer": "ipython3",
   "version": "3.10.6"
  }
 },
 "nbformat": 4,
 "nbformat_minor": 2
}
